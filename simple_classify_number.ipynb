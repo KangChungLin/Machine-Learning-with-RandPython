{
 "cells": [
  {
   "cell_type": "markdown",
   "metadata": {},
   "source": [
    "![alt text](./images/ML_01.jpg)"
   ]
  },
  {
   "cell_type": "markdown",
   "metadata": {},
   "source": [
    "![alt text](./images/ML_02.jpg)"
   ]
  },
  {
   "cell_type": "markdown",
   "metadata": {},
   "source": [
    "![alt text](./images/ML_03.jpg)"
   ]
  },
  {
   "cell_type": "markdown",
   "metadata": {},
   "source": [
    "![alt text](./images/ML_04.jpg)"
   ]
  },
  {
   "cell_type": "code",
   "execution_count": 50,
   "metadata": {},
   "outputs": [
    {
     "data": {
      "text/plain": [
       "['./data/0/0-1.bmp',\n",
       " './data/0/0-10.bmp',\n",
       " './data/0/0-2.bmp',\n",
       " './data/0/0-3.bmp',\n",
       " './data/0/0-4.bmp',\n",
       " './data/0/0-5.bmp',\n",
       " './data/0/0-6.bmp',\n",
       " './data/0/0-7.bmp',\n",
       " './data/0/0-8.bmp',\n",
       " './data/0/0-9.bmp',\n",
       " './data/1/1-1.bmp',\n",
       " './data/1/1-10.bmp',\n",
       " './data/1/1-2.bmp',\n",
       " './data/1/1-3.bmp',\n",
       " './data/1/1-4.bmp',\n",
       " './data/1/1-5.bmp',\n",
       " './data/1/1-6.bmp',\n",
       " './data/1/1-7.bmp',\n",
       " './data/1/1-8.bmp',\n",
       " './data/1/1-9.bmp',\n",
       " './data/2/2--2.bmp',\n",
       " './data/2/2-1.bmp',\n",
       " './data/2/2-10.bmp',\n",
       " './data/2/2-3.bmp',\n",
       " './data/2/2-4.bmp',\n",
       " './data/2/2-5.bmp',\n",
       " './data/2/2-6.bmp',\n",
       " './data/2/2-7.bmp',\n",
       " './data/2/2-8.bmp',\n",
       " './data/2/2-9.bmp',\n",
       " './data/3/3-1.bmp',\n",
       " './data/3/3-10.bmp',\n",
       " './data/3/3-2.bmp',\n",
       " './data/3/3-3.bmp',\n",
       " './data/3/3-4.bmp',\n",
       " './data/3/3-5.bmp',\n",
       " './data/3/3-6.bmp',\n",
       " './data/3/3-7.bmp',\n",
       " './data/3/3-8.bmp',\n",
       " './data/3/3-9.bmp',\n",
       " './data/4/4-1.bmp',\n",
       " './data/4/4-10.bmp',\n",
       " './data/4/4-2.bmp',\n",
       " './data/4/4-3.bmp',\n",
       " './data/4/4-4.bmp',\n",
       " './data/4/4-5.bmp',\n",
       " './data/4/4-6.bmp',\n",
       " './data/4/4-7.bmp',\n",
       " './data/4/4-8.bmp',\n",
       " './data/4/4-9.bmp',\n",
       " './data/5/5-1.bmp',\n",
       " './data/5/5-10.bmp',\n",
       " './data/5/5-2.bmp',\n",
       " './data/5/5-3.bmp',\n",
       " './data/5/5-4.bmp',\n",
       " './data/5/5-5.bmp',\n",
       " './data/5/5-6.bmp',\n",
       " './data/5/5-7.bmp',\n",
       " './data/5/5-8.bmp',\n",
       " './data/5/5-9.bmp',\n",
       " './data/6/6-1.bmp',\n",
       " './data/6/6-10.bmp',\n",
       " './data/6/6-2.bmp',\n",
       " './data/6/6-3.bmp',\n",
       " './data/6/6-4.bmp',\n",
       " './data/6/6-5.bmp',\n",
       " './data/6/6-6.bmp',\n",
       " './data/6/6-7.bmp',\n",
       " './data/6/6-8.bmp',\n",
       " './data/6/6-9.bmp',\n",
       " './data/7/7-1.bmp',\n",
       " './data/7/7-10.bmp',\n",
       " './data/7/7-2.bmp',\n",
       " './data/7/7-3.bmp',\n",
       " './data/7/7-4.bmp',\n",
       " './data/7/7-5.bmp',\n",
       " './data/7/7-6.bmp',\n",
       " './data/7/7-7.bmp',\n",
       " './data/7/7-8.bmp',\n",
       " './data/7/7-9.bmp',\n",
       " './data/8/8-1.bmp',\n",
       " './data/8/8-10.bmp',\n",
       " './data/8/8-2.bmp',\n",
       " './data/8/8-3.bmp',\n",
       " './data/8/8-4.bmp',\n",
       " './data/8/8-5.bmp',\n",
       " './data/8/8-6.bmp',\n",
       " './data/8/8-7.bmp',\n",
       " './data/8/8-8.bmp',\n",
       " './data/8/8-9.bmp',\n",
       " './data/9/9-1.bmp',\n",
       " './data/9/9-10.bmp',\n",
       " './data/9/9-2.bmp',\n",
       " './data/9/9-3.bmp',\n",
       " './data/9/9-4.bmp',\n",
       " './data/9/9-5.bmp',\n",
       " './data/9/9-6.bmp',\n",
       " './data/9/9-7.bmp',\n",
       " './data/9/9-8.bmp',\n",
       " './data/9/9-9.bmp']"
      ]
     },
     "execution_count": 50,
     "metadata": {},
     "output_type": "execute_result"
    }
   ],
   "source": [
    "import cv2\n",
    "import numpy as np\n",
    "import matplotlib.pyplot as plt\n",
    "from os import listdir\n",
    "\n",
    "# read image data \n",
    "s='./data/'\n",
    "file_list = []\n",
    "for i in range(10):\n",
    "    file_list += [('./data/{}/'.format(i) + n) for n in listdir('./data/{}'.format(i))]\n",
    "file_list"
   ]
  },
  {
   "cell_type": "code",
   "execution_count": 32,
   "metadata": {},
   "outputs": [],
   "source": [
    "# read first file\n",
    "image=cv2.imread(file_list[0],cv2.IMREAD_GRAYSCALE)\n",
    "\n",
    "cv2.imshow('image',image) \n",
    "# waiting time(ms), 0 mean any stop key\n",
    "cv2.waitKey(0) \n",
    "cv2.destroyAllWindows()"
   ]
  },
  {
   "cell_type": "code",
   "execution_count": 18,
   "metadata": {},
   "outputs": [
    {
     "name": "stdout",
     "output_type": "stream",
     "text": [
      "(240, 240)\n"
     ]
    },
    {
     "data": {
      "text/plain": [
       "array([  0, 255], dtype=uint8)"
      ]
     },
     "execution_count": 18,
     "metadata": {},
     "output_type": "execute_result"
    }
   ],
   "source": [
    "# write your code here\n",
    "\n",
    "print(image.shape) \n",
    "\n",
    "# \n",
    "np.unique(image)"
   ]
  },
  {
   "cell_type": "code",
   "execution_count": 33,
   "metadata": {},
   "outputs": [
    {
     "data": {
      "text/plain": [
       "2692"
      ]
     },
     "execution_count": 33,
     "metadata": {},
     "output_type": "execute_result"
    }
   ],
   "source": [
    "sum(image==0).sum()"
   ]
  },
  {
   "cell_type": "code",
   "execution_count": 40,
   "metadata": {},
   "outputs": [],
   "source": [
    "# extract each image as feature vector\n",
    "# use 6*6 grid to represent each origin image\n",
    "b_list=[]\n",
    "for file in file_list:\n",
    "    image=cv2.imread(file,cv2.IMREAD_GRAYSCALE)\n",
    "    b = []\n",
    "    for i in range(6):\n",
    "        for j in range(6):\n",
    "            area=image[i*40:(i+1)*40,j*40:(j+1)*40]\n",
    "            b.append(sum(area==0).sum())\n",
    "    b_list.append(b)"
   ]
  },
  {
   "cell_type": "code",
   "execution_count": 42,
   "metadata": {},
   "outputs": [
    {
     "data": {
      "text/plain": [
       "array([[  0,   0, 178, 286,   6,   0,   0,   0, 333,  22, 320,   0,   0,\n",
       "          0, 291,   0, 285,   0,   0,   0, 361, 151, 284,   0,   0,   0,\n",
       "          4, 171,   0,   0,   0,   0,   0,   0,   0,   0],\n",
       "       [  0,   0, 265, 313,  28,   0,   0,   0, 324,   3, 326,   0,   0,\n",
       "         20, 272,   0, 286,   0,   0,   0, 319,   0, 308,   0,   0,   0,\n",
       "        207, 306, 111,   0,   0,   0,   0,   0,   0,   0],\n",
       "       [  0,   0,  24,  19,   0,   0,   0,   0, 426, 311, 181,   0,   0,\n",
       "          0, 295,   0, 293,   0,   0,   0, 371, 168, 198,   0,   0,   0,\n",
       "         28, 200,   0,   0,   0,   0,   0,   0,   0,   0],\n",
       "       [  0,  10, 357,  10,   0,   0,   0, 304,  35, 323,   0,   0,   0,\n",
       "        280,   0, 292,   0,   0,   0, 262, 138, 335,   0,   0,   0,   0,\n",
       "        178,  13,   0,   0,   0,   0,   0,   0,   0,   0],\n",
       "       [  0,   0, 248, 202,   0,   0,   0, 141, 207, 185, 167,   0,   0,\n",
       "        292,   0,   0, 294,   0,   0, 232,  86, 182, 166,   0,   0,   0,\n",
       "        317, 230,   0,   0,   0,   0,   0,   0,   0,   0]])"
      ]
     },
     "execution_count": 42,
     "metadata": {},
     "output_type": "execute_result"
    }
   ],
   "source": [
    "dataset = np.array(b_list)\n",
    "dataset[0:5,]"
   ]
  },
  {
   "cell_type": "code",
   "execution_count": 51,
   "metadata": {},
   "outputs": [],
   "source": [
    "# write your code here\n",
    "labels = np.array([[i]*10 for i in range(10)])\n",
    "labels = labels.flatten()\n",
    "#print(dataset.shape)\n",
    "#print(labels.shape)"
   ]
  },
  {
   "cell_type": "code",
   "execution_count": 52,
   "metadata": {},
   "outputs": [
    {
     "name": "stdout",
     "output_type": "stream",
     "text": [
      "(80, 36)\n",
      "(80,)\n",
      "(20, 36)\n",
      "(20,)\n"
     ]
    }
   ],
   "source": [
    "from sklearn import neighbors\n",
    "from sklearn.model_selection import train_test_split\n",
    "from sklearn import preprocessing\n",
    "from sklearn.metrics import accuracy_score, confusion_matrix\n",
    "\n",
    "# split data into training data and testing data\n",
    "X_train, X_test, y_train, y_test = train_test_split(dataset, labels, test_size=0.2)\n",
    "\n",
    "\n",
    "# write your code here\n",
    "\n",
    "\n",
    "print(X_train.shape)\n",
    "print(y_train.shape)\n",
    "\n",
    "print(X_test.shape)\n",
    "print(y_test.shape)"
   ]
  },
  {
   "cell_type": "code",
   "execution_count": 53,
   "metadata": {},
   "outputs": [
    {
     "name": "stdout",
     "output_type": "stream",
     "text": [
      "number of correct sample: 17\n",
      "accuracy: 0.85\n",
      "confusion matrix: \n",
      "[[1 0 0 0 1 0 0 0 0 0]\n",
      " [0 4 0 0 0 0 0 0 0 0]\n",
      " [0 0 1 0 0 0 0 0 0 0]\n",
      " [0 0 0 1 0 0 0 0 0 0]\n",
      " [0 0 0 0 2 0 0 0 0 0]\n",
      " [0 0 0 1 0 1 0 0 0 0]\n",
      " [0 1 0 0 0 0 2 0 0 0]\n",
      " [0 0 0 0 0 0 0 1 0 0]\n",
      " [0 0 0 0 0 0 0 0 2 0]\n",
      " [0 0 0 0 0 0 0 0 0 2]]\n"
     ]
    }
   ],
   "source": [
    "# build model and evaluate your result\n",
    "scaler = preprocessing.StandardScaler().fit(X_train)\n",
    "X_train = scaler.transform(X_train)\n",
    "\n",
    "model = neighbors.KNeighborsClassifier(n_neighbors=3)\n",
    "model.fit(X_train, y_train)\n",
    "\n",
    "# write your code here\n",
    "X_test = scaler.transform(X_test)\n",
    "y_pred = model.predict(X_test)\n",
    "\n",
    "accuracy = accuracy_score(y_test, y_pred)\n",
    "num_correct_samples = accuracy_score(y_test, y_pred, normalize=False)\n",
    "con_matrix = confusion_matrix(y_test, y_pred)\n",
    "\n",
    "print('number of correct sample: {}'.format(num_correct_samples))\n",
    "print('accuracy: {}'.format(accuracy))\n",
    "print('confusion matrix: \\n{}'.format(con_matrix))"
   ]
  },
  {
   "cell_type": "code",
   "execution_count": null,
   "metadata": {},
   "outputs": [],
   "source": []
  }
 ],
 "metadata": {
  "kernelspec": {
   "display_name": "Python 3",
   "language": "python",
   "name": "python3"
  },
  "language_info": {
   "codemirror_mode": {
    "name": "ipython",
    "version": 3
   },
   "file_extension": ".py",
   "mimetype": "text/x-python",
   "name": "python",
   "nbconvert_exporter": "python",
   "pygments_lexer": "ipython3",
   "version": "3.7.7"
  }
 },
 "nbformat": 4,
 "nbformat_minor": 4
}
